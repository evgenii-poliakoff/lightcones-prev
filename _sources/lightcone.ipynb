{
 "cells": [
  {
   "cell_type": "markdown",
   "metadata": {},
   "source": [
    "# The Lieb-Robinson lightcone\n",
    "\n",
    "In this project we propose the way out of this difficulty. We propose to consider the Lieb-Robinson lightcone as a real-time alterantive to the equilibrium Gibbs distribution.  The Lieb-Robinson lightcone always exists in the condensed matter.  \n",
    "\n",
    "\n",
    "## Example: Interaction quench for qubit (atom) in the waveguide\n",
    "\n",
    "Let us illustrate it on a specific example. Suppose we have a qubit (two-level atom) with a transition frequency $E_{at}$. We suppose there is a laser driving $f(t) = 0.1 \\cos(t)$ acting on the qubit. As a result, it fluoresces into the waveguide. The latter is represented as a bosonic chain with constant hoppings $h$ and on-site energies $\\varepsilon$. The total Hamiltonian is:\n",
    "\n",
    "$$\n",
    "H\\left(t\\right) = E_{at}  \\sigma_{z} + \\sigma_{x} \\cdot f(t) + h \\sigma_{+} a_{0} + h a^{\\dagger}_{0} \\sigma_{-} + \\sum\\limits_{i=0}^{\\infty} (\\varepsilon a^{\\dagger}_{i} a_{i} + h a^{\\dagger}_{i+1} a_{i} + h a^{\\dagger}_{i} a_{i+1})  \n",
    "$$\n",
    "\n",
    "\n",
    "Let us program this Hamiltonian:\n"
   ]
  },
  {
   "cell_type": "code",
   "execution_count": 1,
   "metadata": {},
   "outputs": [],
   "source": [
    "# in python, we define this model in the following way:\n",
    "\n",
    "# 1. We define the two-state Hilbert space of the qubit (atom)\n",
    "# as one bosonic mode truncated at one excitation\n",
    "import secondquant as sq\n",
    "hs_atom = sq.fock_space(num_modes = 1, max_total_occupation = 1, statistics = 'Bose')\n",
    "\n",
    "# 2. We define the Fock space of the waveguide (bosonic chain).\n",
    "# We truncate it at\n",
    "m = 9 # modes  and at a total occupation of\n",
    "n = 7 #  quanta\n",
    "fs_chain = sq.fock_space(num_modes = m, max_total_occupation = n, statistics = 'Bose') \n",
    "\n",
    "# 3. The joint Hilbert space is given by a tensor product:\n",
    "hs_joint = sq.fock_space_kron(hs_atom, fs_chain)\n",
    "\n",
    "# 4. The creation and annihilation operators are provided as\n",
    "b_hat = hs_joint.annihilate\n",
    "b_hat_dag = hs_joint.create"
   ]
  },
  {
   "cell_type": "markdown",
   "metadata": {},
   "source": [
    "Here <code> b_hat[0] </code> and <code> b_hat_dag[0] </code> correspond to $\\sigma_{-}$ and $\\sigma_{+}$ of the qubit degree of freedom:"
   ]
  },
  {
   "cell_type": "code",
   "execution_count": 2,
   "metadata": {},
   "outputs": [],
   "source": [
    "sigma_m = b_hat[0]\n",
    "sigma_p = b_hat_dag[0]\n",
    "sigma_x = hs_joint.sigmax(0)"
   ]
  },
  {
   "cell_type": "markdown",
   "metadata": {},
   "source": [
    "Also, <code> b_hat[i + 1] </code> and <code> b_hat_dag[i + 1] </code> correspond to $a_{i}$ and $a^{\\dagger}_{i}$ of the chain: "
   ]
  },
  {
   "cell_type": "code",
   "execution_count": 3,
   "metadata": {},
   "outputs": [],
   "source": [
    "a_hat = b_hat[1:]\n",
    "a_hat_dag = b_hat_dag[1:]"
   ]
  },
  {
   "cell_type": "markdown",
   "metadata": {},
   "source": [
    "Therefore, the Hamiltonian becomes:"
   ]
  },
  {
   "cell_type": "code",
   "execution_count": 11,
   "metadata": {},
   "outputs": [],
   "source": [
    "Eat = 1.0\n",
    "h = 0.05\n",
    "e = 1.0\n",
    "def f(t):\n",
    "    return(0.1*np.cos(t))\n",
    "\n",
    "Hconst = Eat * sigma_p @ sigma_m + h * sigma_p @ a_hat[0] + h * sigma_m @ a_hat_dag[0] \\\n",
    "    + e * sum([a_hat_dag[i] @ a_hat[i] for i in range(m)]) \\\n",
    "    + h * sum([a_hat_dag[i + 1] @ a_hat[i] + a_hat_dag[i] @ a_hat[i + 1] for i in range(m-1)])\n",
    "\n",
    "def H(t):\n",
    "    return Hconst + f(t) * sigma_x"
   ]
  },
  {
   "cell_type": "markdown",
   "metadata": {},
   "source": [
    "Let us consider the interaction quench. That is, initially the qubit and the waveguide are in their ground states. The initial wavefunction <code> psi_ini </code> has only one non-zero component <code> psi_ini[0] </code> which corresponds to the ground state:"
   ]
  },
  {
   "cell_type": "code",
   "execution_count": 12,
   "metadata": {},
   "outputs": [],
   "source": [
    "import numpy as np\n",
    "K = hs_joint.dimension\n",
    "psi_ini = np.zeros(K, dtype = complex)\n",
    "psi_ini[0] = 1 "
   ]
  },
  {
   "cell_type": "markdown",
   "metadata": {},
   "source": [
    "Then we suddenly turn on the interaction due to $H(t)$. As the result, the disturbance starts to propagate gradually along the waveguide. We can visualize it by solving the nonstationary Schrodinger equation \n",
    "\n",
    "$$\n",
    "    i\\frac{\\partial \\Psi\\left(t\\right)}{\\partial t} = \\widehat{H}\\left(t\\right)\\Psi\\left(t\\right)\n",
    "$$\n",
    "\n",
    "and computing the occupations <code> ni[j, i] </code> of the  waveguide sites, <code> ni[j,i] </code> = $ n_j\\left(t\\right)=\\left\\langle\\Psi\\left(t_i\\right)|a_j^{\\dagger} a_j|\\Psi\\left(t_i\\right)\\right\\rangle$:"
   ]
  },
  {
   "cell_type": "code",
   "execution_count": 13,
   "metadata": {},
   "outputs": [],
   "source": [
    "import tools\n",
    "tmax = 100\n",
    "dt = 0.01\n",
    "t = np.arange(start = 0, stop = tmax, step = dt)\n",
    "nt = t.size\n",
    "ni = np.zeros((m, nt))\n",
    "\n",
    "# The midpoint Hamiltonian for time t = ti * dt\n",
    "def Hi(ti):\n",
    "    return H(ti * dt + dt/2)\n",
    "\n",
    "# Solve the Schrodinger equation via implicit midpoint method on time grid\n",
    "for i, psi in tools.evolution(start_index = 0, end_index = nt, H = Hi, dt = dt, initial_state = psi_ini):\n",
    "    for j in range(m):\n",
    "        ni[j, i] = (np.conj(psi) @ a_hat_dag[j]@a_hat[j] @ psi).real\n",
    "\n"
   ]
  },
  {
   "cell_type": "markdown",
   "metadata": {},
   "source": [
    "Let us visualize the grid <code> ni[j, i] </code>:"
   ]
  },
  {
   "cell_type": "code",
   "execution_count": 14,
   "metadata": {},
   "outputs": [
    {
     "data": {
      "image/png": "[encoded data removed]",
      "text/plain": [
       "<Figure size 432x288 with 1 Axes>"
      ]
     },
     "metadata": {
      "needs_background": "light"
     },
     "output_type": "display_data"
    }
   ],
   "source": [
    "import matplotlib.pyplot as plt\n",
    " \n",
    "plt.imshow(ni, cmap='viridis',  aspect='auto', interpolation = 'none')\n",
    "plt.xlabel('time')\n",
    "plt.ylabel('chain site No.')\n",
    "plt.xticks([0, 2000, 4000, 6000, 8000, 10000], labels=[\"0\", \"20\", \"40\", \"60\", \"80\", \"100\"])\n",
    "plt.show()\n"
   ]
  },
  {
   "cell_type": "markdown",
   "metadata": {},
   "source": [
    "We observe the lightcone-like spread of disturbance.  "
   ]
  },
  {
   "cell_type": "markdown",
   "metadata": {},
   "source": [
    "## Lightcone allows us to identify the relevant and irrelevant degrees of freedom\n",
    "\n",
    "The domain outside the lightcone consists of degrees of freedom which will become significantly excited only in the future. More specifically, for each chain site $i$ there is a time moment $t_i$ after which it will become statistically significant for the evolution. We may define a piece-wise continuous function $m\\left(t\\right)$ which shows how many sites have coupled to the evolution by the time $t$:\n",
    "\n",
    "$$\n",
    "m(t) = \\max\\{t_i : t_i <= t\\}\n",
    "$$\n",
    "\n",
    "Then when solving the Schrodinger equation, we can include only a finite number $m\\left(t\\right)$ of sites into the Hamiltonian:\n",
    "\n",
    "$$\n",
    "    i\\frac{\\partial \\Psi\\left(t\\right)}{\\partial t} = \\widehat{H}_m\\left(t\\right)\\Psi\\left(t\\right)\n",
    "$$\n",
    "\n",
    "with\n",
    "\n",
    "$$\n",
    "H_m\\left(t\\right) = E_{at}  \\sigma_{z} + \\sigma_{x} \\cdot f(t) + h \\sigma_{+} a_{0} + h a^{\\dagger}_{0} \\sigma_{-} + \\sum\\limits_{i=0}^{m\\left(t\\right)} (\\varepsilon a^{\\dagger}_{i} a_{i} + h a^{\\dagger}_{i+1} a_{i} + h a^{\\dagger}_{i} a_{i+1})  \n",
    "$$ (lightcone_restricted_ham)\n",
    "\n",
    "\n"
   ]
  },
  {
   "cell_type": "markdown",
   "metadata": {},
   "source": [
    "## Find the time of a new incoming chain site\n",
    "\n",
    "We can find the time $t_i$ using the results of the preceding computation. We introduce a treshold of significance $a_{cut}$. Then the time $t_i$ is defined as a first time when the occupation of the site $i$ exceeds the  threshold,\n",
    "\n",
    "$$\n",
    "    n_i\\left(t\\right) > a_{cut}  \n",
    "$$\n",
    "\n",
    "Here is the program:"
   ]
  },
  {
   "cell_type": "code",
   "execution_count": 21,
   "metadata": {},
   "outputs": [
    {
     "data": {
      "text/plain": [
       "[<matplotlib.lines.Line2D at 0x7f369100f730>]"
      ]
     },
     "execution_count": 21,
     "metadata": {},
     "output_type": "execute_result"
    },
    {
     "data": {
      "image/png": "[encoded data removed]",
      "text/plain": [
       "<Figure size 432x288 with 1 Axes>"
      ]
     },
     "metadata": {
      "needs_background": "light"
     },
     "output_type": "display_data"
    }
   ],
   "source": [
    "#| label:aposteriory_estimate\n",
    "\n",
    "a_cut = 10**(-5)\n",
    "\n",
    "ti = [0]\n",
    "for i in range(m):\n",
    "    ti.append(np.argmax(ni[i, :] - a_cut > 0))\n",
    "ti.append(nt-1)\n",
    "    \n",
    "x = []\n",
    "y = []\n",
    "\n",
    "for i in range(m):\n",
    "    x.append(t[ti[i]])\n",
    "    x.append(t[ti[i+1]])\n",
    "    y.append(i)\n",
    "    y.append(i)\n",
    "\n",
    "plt.xlabel('time')\n",
    "plt.ylabel('number of coupled modes')\n",
    "\n",
    "plt.plot(x, y)"
   ]
  },
  {
   "cell_type": "markdown",
   "metadata": {},
   "source": [
    "Now let us solve the Schrodinger equation with the full number of modes and compute the \n",
    "occupation of the qubit: <code> nq[i] </code>=$\\left\\langle\\Psi\\left(t_i\\right)|\\sigma_+ \\sigma_-|\\Psi\\left(t_i\\right)\\right\\rangle$\n",
    "    "
   ]
  },
  {
   "cell_type": "code",
   "execution_count": 16,
   "metadata": {},
   "outputs": [
    {
     "data": {
      "text/plain": [
       "Text(0, 0.5, 'occupation of qubit')"
      ]
     },
     "execution_count": 16,
     "metadata": {},
     "output_type": "execute_result"
    },
    {
     "data": {
      "image/png": "[encoded data removed]",
      "text/plain": [
       "<Figure size 432x288 with 1 Axes>"
      ]
     },
     "metadata": {
      "needs_background": "light"
     },
     "output_type": "display_data"
    }
   ],
   "source": [
    "nq = np.zeros(nt)\n",
    "\n",
    "for i, psi in tools.evolution(start_index = 0, end_index = nt, H = Hi, dt = dt, initial_state = psi_ini):\n",
    "    nq[i] = (np.conj(psi) @ sigma_p @ sigma_m @ psi).real\n",
    "              \n",
    "plt.plot(t, nq)\n",
    "plt.xlabel('time')\n",
    "plt.ylabel('occupation of qubit')\n"
   ]
  },
  {
   "cell_type": "markdown",
   "metadata": {},
   "source": [
    "Then let us solve the Schrodinger equation but now keeping only $m\\left(t\\right)$ modes:"
   ]
  },
  {
   "cell_type": "code",
   "execution_count": 23,
   "metadata": {},
   "outputs": [
    {
     "data": {
      "text/plain": [
       "Text(0, 0.5, 'occupation of qubit')"
      ]
     },
     "execution_count": 23,
     "metadata": {},
     "output_type": "execute_result"
    },
    {
     "data": {
      "image/png": "[encoded data removed]",
      "text/plain": [
       "<Figure size 432x288 with 1 Axes>"
      ]
     },
     "metadata": {
      "needs_background": "light"
     },
     "output_type": "display_data"
    }
   ],
   "source": [
    "nq2 = np.zeros(nt)\n",
    "\n",
    "psi_begin = np.copy(psi_ini)\n",
    "\n",
    "for j in range(len(ti)-1):\n",
    "    a = ti[j]\n",
    "    b = ti[j+1]\n",
    "    \n",
    "    Hmconst = Eat * sigma_p @ sigma_m + h * sigma_p @ a_hat[0] + h * sigma_m @ a_hat_dag[0] \\\n",
    "        + e * sum([a_hat_dag[i] @ a_hat[i] for i in range(j)]) \\\n",
    "        + h * sum([a_hat_dag[i + 1] @ a_hat[i] + a_hat_dag[i] @ a_hat[i + 1] for i in range(j-1)])\n",
    "    \n",
    "    def Hm(t):\n",
    "        return Hmconst + f(t) * sigma_x\n",
    "    \n",
    "    def Hmi(ti):\n",
    "        return H(ti * dt + dt/2)\n",
    "    \n",
    "    for i, psi in tools.evolution(start_index = a, end_index = b, H = Hmi, dt = dt, initial_state = psi_begin):\n",
    "        nq2[i] = (np.conj(psi) @ sigma_p @ sigma_m @ psi).real\n",
    "        \n",
    "    psi_begin = psi\n",
    "              \n",
    "plt.plot(t[:-2], nq2[:-2], label = 'only inside lightcone')\n",
    "plt.plot(t, nq, label = 'all sites')\n",
    "plt.legend()\n",
    "plt.xlabel('time')\n",
    "plt.ylabel('occupation of qubit')"
   ]
  },
  {
   "cell_type": "markdown",
   "metadata": {},
   "source": [
    "We see that the lightcone works!"
   ]
  }
 ],
 "metadata": {
  "kernelspec": {
   "display_name": "Python 3 (ipykernel)",
   "language": "python",
   "name": "python3"
  },
  "language_info": {
   "codemirror_mode": {
    "name": "ipython",
    "version": 3
   },
   "file_extension": ".py",
   "mimetype": "text/x-python",
   "name": "python",
   "nbconvert_exporter": "python",
   "pygments_lexer": "ipython3",
   "version": "3.10.8"
  },
  "widgets": {
   "application/vnd.jupyter.widget-state+json": {
    "state": {},
    "version_major": 2,
    "version_minor": 0
   }
  }
 },
 "nbformat": 4,
 "nbformat_minor": 4
}
