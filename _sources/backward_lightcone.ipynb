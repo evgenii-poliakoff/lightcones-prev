{
 "cells": [
  {
   "cell_type": "markdown",
   "metadata": {},
   "source": [
    "(backward_lightcone)=\n",
    "# The backward Lieb-Robinson lightcone\n",
    "\n",
    "## Time-reversal symmetry\n",
    "\n",
    "The quantum mechanics has the time-reversal symmetry. Namely, consider some interval $\\left[0,T\\right]$. Suppose at $t=0$\n",
    "we are given initial wavefunction $\\Psi\\left(0\\right)$.\n",
    "\n",
    "We can solve the non-stationary Schrodinger equation forward in time \n",
    "\n",
    "$$\n",
    "    i\\frac{\\partial \\Psi\\left(t\\right)}{\\partial t} = \\widehat{H}\\left(t\\right)\\Psi\\left(t\\right)\n",
    "$$ (forward_time_eq)\n",
    "\n",
    "and obtain the final state $\\Psi\\left(T\\right)$.\n",
    "\n",
    "The time-reversal symmetry refers to the fact that backward-evolving wavefunction\n",
    "\n",
    "$$\n",
    "    \\mathcal{T}\\left[\\Psi\\right]\\left(t\\right) = \\Psi^{*}\\left(T-t\\right)\n",
    "$$ (backward_wavefunction)\n",
    "\n",
    "also satisfies the forward time Schoridinger equation {eq}`forward_time_eq`, with the time-reversed Hamiltonian:\n",
    "\n",
    "$$\n",
    "    i\\frac{\\partial \\mathcal{T}\\left[\\Psi\\right]\\left(t\\right)}{\\partial t} = \\widehat{H}^{\\ast} \\left(T - t\\right) \\mathcal{T}\\left[\\Psi\\right]\\left(t\\right)\n",
    "$$\n",
    "\n",
    "Here $\\mathcal{T}$ is called the time reversal operator, $\\mathcal{T^2}=1$. It has obvious properties: \n",
    "\n",
    "$$\n",
    "    \\mathcal{T}\\left[\\alpha\\left(t\\right) \\Psi\\right]\\left(t\\right) = \\alpha^{\\ast}\\left(T-t\\right)\\mathcal{T}\\left[\\Psi\\right]\\left(t\\right) \n",
    "$$ (T_prop_1)\n",
    "\n",
    "for arbitrary scalar $\\alpha\\left(t\\right)$, and \n",
    "\n",
    "$$\n",
    "    \\mathcal{T}\\left[\\widehat{A}\\left(t\\right) \\Psi\\right]\\left(t\\right) = \\widehat{A}^{\\ast}\\left(T-t\\right)\\mathcal{T}\\left[\\Psi\\right]\\left(t\\right) \n",
    "$$ (T_prop_2)\n",
    "\n",
    "for arbitrary operator $\\widehat{A}\\left(t\\right)$.\n",
    "\n",
    "For our illustrative example,\n",
    "\n",
    "$$\n",
    "   \\widehat{H}^{\\ast} \\left(T - t\\right) = E_{at}  \\sigma_{z} + \\sigma_{x} \\cdot f^{\\ast}(T-t) + h \\sigma_{+} a_{0} + h a^{\\dagger}_{0} \\sigma_{-} + \\sum\\limits_{i=0}^{\\infty} (\\varepsilon a^{\\dagger}_{i} a_{i} + h a^{\\dagger}_{i+1} a_{i} + h a^{\\dagger}_{i} a_{i+1})  \n",
    "$$ (H_reversed)\n",
    "\n",
    "## Time-reversal in the interaction picture\n",
    "\n",
    "In the interaction picture with respect to the free bath {eq}`free_bath` the time-reversal symmetry still holds:\n",
    "\n",
    "$$\n",
    "    \\left|\\Psi_{int}^{\\ast}\\left(T-t\\right)\\right\\rangle = \\exp\\left(-i \\left(T-t\\right)\\right) \\left|\\Psi^{\\ast}\\left(T-t\\right)\\right\\rangle \\\\\n",
    "    = \\mathcal{T}\\left[\\Psi_{int}\\right]\\left(t\\right),\n",
    "$$ (backward_interaction_wavefunc)\n",
    "\n",
    "according to the properties {eq}`T_prop_1` and {eq}`T_prop_2`.\n",
    "\n",
    "The time-reversed interaction-picture Hamiltonian is\n",
    "\n",
    "$$\n",
    "    \\mathcal{T} H_{int}\\left(t\\right) \\mathcal{T} \\\\= E_{at}  \\sigma_{z} + \\sigma_{x} \\cdot f^{\\ast}(T-t) + h \\sigma_{+} a_{0}^{\\ast}\\left(T-t\\right) + h a^{\\dagger\\ast}_{0}\\left(T-t\\right) \\sigma_{-} \\\\\n",
    "    = E_{at}  \\sigma_{z} + \\sigma_{x} \\cdot f^{\\ast}(T-t) + h \\sigma_{+} \\sum_{k=0}^\\infty \\phi_k^{\\ast}\\left(T-t\\right) a_k + h \\sum_{k=0}^\\infty \\phi_k\\left(T-t\\right) a_k^{\\dagger} \\sigma_{-},\n",
    "$$\n",
    "\n",
    "where we have employed {eq}`a_0_int`.\n",
    "\n",
    "## Implications for the Lieb-Robinson lightcone\n",
    "\n",
    "The time reversal symmetry has deep implications for the Lieb-Robinson lightcone.\n",
    "\n",
    "Consider the final joint wavefunction of the atom and the chain $\\left|\\Psi\\left(T\\right)\\right\\rangle$. It is some correlated many-body state. \n",
    "\n",
    "Now let us evolve it backwards in time. We apply the time-reversal {eq}`backward_wavefunction`. The resulting initial condition is\n",
    "\n",
    "\n",
    "$$\n",
    "    \\Psi_{-}\\left(0\\right) = \\Psi^{*}\\left(T\\right)\n",
    "$$\n",
    "\n",
    "Then the forward evolution in the Schrodinger picture,\n",
    "\n",
    "$$\n",
    "    i\\partial_t \\Psi_{-}\\left(t\\right) = H^{\\ast}\\left(T-t\\right) \\Psi_{-}\\left(0\\right),\n",
    "$$ (fwd1)\n",
    "\n",
    "yields  $\\Psi_{-}\\left(T\\right)=\\Psi^{\\ast}\\left(0\\right)$.\n",
    "\n",
    "\n",
    "However perform the evolution in the interaction picture,\n",
    "\n",
    "$$\n",
    "    i\\partial_t \\Psi_{int-}\\left(t\\right) = H^{\\prime}_{int}\\left(t\\right) \\Psi_{int-}\\left(t\\right),\n",
    "$$\n",
    "\n",
    "where $\\Psi_{int-}\\left(0\\right) = \\Psi_{-}\\left(0\\right)$, and\n",
    "\n",
    "$$\n",
    "    H^{\\prime}_{int}\\left(t\\right)= E_{at}  \\sigma_{z} + \\sigma_{x} \\cdot f^{\\ast}(T-t) + h \\sigma_{+} a_{0}\\left(t\\right)  +  h a^{\\dagger}_{0}\\left(t\\right) \\sigma_{-} \n",
    "$$\n",
    "\n",
    "We restrict this Hamiltonian to the a priory lightcone estimate:\n",
    "\n",
    "$$\n",
    "    H^{\\prime}_{int}\\left(t\\right) \\to H_{lc}\\left(t\\right)= E_{at}  \\sigma_{z} + \\sigma_{x} \\cdot f^{\\ast}(T-t) + h \\sigma_{+} \\sum_{k=0}^{m\\left(t\\right)} \\phi_k\\left(t\\right) a_k + h \\sum_{k=0}^{m\\left(t\\right)} \\phi_k^{\\ast}\\left(t\\right) a_k^{\\dagger}  \\sigma_{-}, \n",
    "$$\n",
    "\n",
    "so that the evolution is \n",
    "\n",
    "$$\n",
    "     i\\partial_t \\Psi_{int-}\\left(t\\right) = H_{lc}\\left(t\\right) \\Psi_{int-}\\left(t\\right),\n",
    "$$ (lc1)\n",
    "\n",
    "The final value is \n",
    "\n",
    "$$\n",
    " \\left|\\Psi_{int-}\\left(T\\right)\\right\\rangle = \\exp\\left(i T \\widehat{H}_{b} \\right)\\left|\\Psi^{\\ast}\\left(0\\right)\\right\\rangle\n",
    "$$ (lc2)\n",
    "\n",
    "Now we once more apply the time reversal symmetry to {eq}`lc1` and {eq}`lc2`.\n",
    "\n",
    "The initial condition becomes\n",
    "\n",
    "$$\n",
    "    \\left|\\Psi^{\\prime}\\left(0\\right)\\right\\rangle = \\exp\\left(-i T \\widehat{H}_{b} \\right)\\left|\\Psi\\left(0\\right)\\right\\rangle\n",
    "        = \\exp\\left(-i T \\widehat{H}_{b} \\right)\\left|\\Psi_{int}\\left(0\\right)\\right\\rangle,\n",
    "$$\n",
    "\n",
    "with the forward evolution under the Hamiltonian\n",
    "\n",
    "$$\n",
    "    \\mathcal{T}H_{lc}\\left(t\\right)\\mathcal{T} = E_{at}  \\sigma_{z} + \\sigma_{x} \\cdot f(t) + h \\sigma_{+} \\sum_{k=0}^{m\\left(T-t\\right)} \\phi^{\\ast}_k\\left(T-t\\right) a_k + h \\sum_{k=0}^{m\\left(T-t\\right)} \\phi_k\\left(T-t\\right) a_k^{\\dagger}  \\sigma_{-},\n",
    "$$ (lc3)\n",
    "\n",
    "$$\n",
    " i\\partial_t \\Psi^{\\prime}\\left(t\\right) = \\mathcal{T}H_{lc}\\left(t\\right)\\mathcal{T} \\Psi^{\\prime}\\left(t\\right),\n",
    "$$ (lc4)\n",
    "\n",
    "This evolution yields \n",
    "\n",
    "$$\n",
    "    \\Psi^{\\prime}\\left(T\\right) = \\Psi^{\\ast}_{int -}\\left(0\\right)= \\Psi^{\\ast}_{-}\\left(0\\right) = \\Psi\\left(T\\right) = \\exp\\left(-i T \\widehat{H}_{b} \\right) \\Psi_{int}\\left(T\\right).\n",
    "$$ (lc5)\n",
    "\n",
    "\n",
    "## Interpretation of the result: the backward lightcone\n",
    "\n",
    "The evolution {eq}`lc3`-{eq}`lc4`-{eq}`lc5` can be interpreted in the following way. \n",
    "\n",
    "Given the initial condition $\\Psi\\left(0\\right)$,  first we rotate to some other frame via one-particle transform\n",
    "\n",
    "$$\n",
    "    \\widehat{U}_{back} = \\exp\\left(-i T \\widehat{H}_{b}\\right).\n",
    "$$ (rotated_frame)\n",
    "\n",
    "In this new frame the initial condition becomes\n",
    "\n",
    "$$\n",
    "    \\left|\\Psi^{\\prime}\\left(0\\right)\\right\\rangle = \\exp\\left(-i T \\widehat{H}_{b} \\right)\\left|\\Psi\\left(0\\right)\\right\\rangle.\n",
    "$$\n",
    "\n",
    "The beautifull property of this frame is that the sites of the chain (different from the sites in the original spatial frame!) decouple one-by-one from the evolution since the function $m\\left(T-t\\right)$ is a *decreasing* function.  \n",
    "\n",
    "\n",
    "Therefore, by rotating to this frame, we were able to restrict our Hamiltonian to the *backward* Lieb-Robinson lightcone:\n",
    "\n",
    "```{image} backward_lightcone.png\n",
    ":width: 50%\n",
    "```\n",
    "As the evolution time $\\tau$ approaches the final time $T$, fewer and fewer modes have non-negligible average intensity of interactions.\n",
    "\n",
    "We expect that the solution of the Schrodinger equation inside the backward lightcone should reproduce the exact results. Let us test this!\n",
    "\n",
    "First solve the full problem (with all sites):"
   ]
  },
  {
   "cell_type": "code",
   "execution_count": 42,
   "metadata": {},
   "outputs": [
    {
     "data": {
      "text/plain": [
       "Text(0, 0.5, 'occupation of qubit')"
      ]
     },
     "execution_count": 42,
     "metadata": {},
     "output_type": "execute_result"
    },
    {
     "data": {
      "image/png": "[encoded data removed]",
      "text/plain": [
       "<Figure size 432x288 with 1 Axes>"
      ]
     },
     "metadata": {
      "needs_background": "light"
     },
     "output_type": "display_data"
    }
   ],
   "source": [
    "import tools\n",
    "import numpy as np\n",
    "\n",
    "Eat = 1.0\n",
    "h = 0.05\n",
    "e = 1.0\n",
    "\n",
    "def f(t):\n",
    "    return(0.1*np.cos(t))\n",
    "    \n",
    "m = tools.spin_boson_quench_model(num_modes = 10, max_num_quanta = 7)\n",
    "\n",
    "Hconst = Eat * m.s_p @ m.s_m \\\n",
    "    + h * m.s_p @ m.a[0] \\\n",
    "        + h * m.s_m @ m.a_dag[0] \\\n",
    "            + e * sum([m.a_dag[i] @ m.a[i] for i in range(m.num_modes)]) \\\n",
    "                + h * sum([m.a_dag[i + 1] @ m.a[i] + m.a_dag[i] @ m.a[i + 1] for i in range(m.num_modes-1)])\n",
    "\n",
    "def Hi(ti):\n",
    "    return Hconst + f(ti * dt + dt/2) * m.s_x\n",
    "\n",
    "tmax = 70\n",
    "dt = 0.01\n",
    "t = np.arange(start = 0, stop = tmax, step = dt)\n",
    "nt = t.size\n",
    "\n",
    "nq = np.zeros(nt)\n",
    "nc = np.zeros((nt, 3))\n",
    "\n",
    "psi_ini = np.zeros(m.dimension, dtype = complex)\n",
    "psi_ini[0] = 1 \n",
    "\n",
    "for i, psi in tools.evolution(start_index = 0, end_index = nt, H = Hi, dt = dt, initial_state = psi_ini):\n",
    "    nq[i] = (np.conj(psi) @ m.s_p @ m.s_m @ psi).real\n",
    "    for j in range(3):\n",
    "        nc[i, j] = (np.conj(psi) @ m.a_dag[j] @ m.a[j] @ psi).real\n",
    "\n",
    "import matplotlib.pyplot as plt\n",
    "plt.plot(t, nq, label = 'all sites')\n",
    "plt.legend()\n",
    "plt.xlabel('time')\n",
    "plt.ylabel('occupation of qubit')"
   ]
  },
  {
   "cell_type": "markdown",
   "metadata": {},
   "source": [
    "Then inside the backward lightcone:"
   ]
  },
  {
   "cell_type": "code",
   "execution_count": 57,
   "metadata": {},
   "outputs": [],
   "source": [
    "import importlib\n",
    "import tools\n",
    "importlib.reload(tools)\n",
    "\n",
    "ns = 100\n",
    "lc = tools.apriori_spatial_lightcone(hoppings=[h]*(ns-1), energies=[e]*ns, tmax=70, dt=0.01, nsites=ns, rcut=10**(-6))"
   ]
  },
  {
   "cell_type": "code",
   "execution_count": 60,
   "metadata": {},
   "outputs": [
    {
     "name": "stdout",
     "output_type": "stream",
     "text": [
      "11\n",
      "0\n",
      "715\n",
      "-----------------------\n",
      "10\n",
      "715\n",
      "1526\n",
      "-----------------------\n",
      "9\n",
      "1526\n",
      "2325\n",
      "-----------------------\n",
      "8\n",
      "2325\n",
      "3109\n",
      "-----------------------\n",
      "7\n",
      "3109\n",
      "3875\n",
      "-----------------------\n",
      "6\n",
      "3875\n",
      "4615\n",
      "-----------------------\n",
      "5\n",
      "4615\n",
      "5316\n",
      "-----------------------\n",
      "4\n",
      "5316\n",
      "5956\n",
      "-----------------------\n",
      "3\n",
      "5956\n",
      "6495\n",
      "-----------------------\n",
      "2\n",
      "6495\n",
      "6865\n",
      "-----------------------\n",
      "1\n",
      "6865\n",
      "6999\n",
      "-----------------------\n",
      "0\n",
      "6999\n",
      "0\n",
      "-----------------------\n"
     ]
    }
   ],
   "source": [
    "m = tools.spin_boson_quench_model(num_modes = 11, max_num_quanta = 7)\n",
    "\n",
    "psi_ini = np.zeros(m.dimension, dtype = complex)\n",
    "psi_ini[0] = 1\n",
    "\n",
    "nq2 = np.zeros(nt)\n",
    "nc2 = np.zeros((nt, 3))\n",
    "\n",
    "a_int_coeffs = [lc.get_a_int(0), lc.get_a_int(1), lc.get_a_int(2)]\n",
    "\n",
    "def eval():\n",
    "    \n",
    "    psi_begin = np.copy(psi_ini)\n",
    "    \n",
    "    for j in reversed(range(len(lc.intervals))):\n",
    "        a = lc.nt - 1 - lc.intervals[j]\n",
    "        b = lc.nt - 1 - lc.intervals[j-1]\n",
    "        \n",
    "        if a>lc.nt-1:\n",
    "            return\n",
    "        b = min(b, lc.nt-1)\n",
    "    \n",
    "        def Hmi(ti):\n",
    "            a_int = sum([m.a[i] * lc.coupling[i, lc.nt - 1 - ti].conj() for i in range(j)]) \n",
    "            return Eat * m.s_p @ m.s_m + f(ti * dt + dt/2) * m.s_x \\\n",
    "                + h * m.s_p @ a_int + h * m.s_m @ a_int.conj().T\n",
    "    \n",
    "        for i, psi in tools.evolution(start_index = a, end_index = b, H = Hmi, dt = dt, initial_state = psi_begin):\n",
    "            nq2[i] = (np.conj(psi) @ m.s_p @ m.s_m @ psi).real\n",
    "            for k in range(3):\n",
    "                a_k_int = sum([m.a[p] * a_int_coeffs[k][p, lc.nt - 1 - i].conj() for p in range(m.num_modes)])\n",
    "                nc2[i, k] = (np.conj(psi) @ a_k_int.T.conj() @ a_k_int @ psi).real\n",
    "            \n",
    "        psi_begin = psi\n",
    "        \n",
    "eval()"
   ]
  },
  {
   "cell_type": "code",
   "execution_count": 41,
   "metadata": {},
   "outputs": [
    {
     "data": {
      "text/plain": [
       "Text(0, 0.5, 'occupation of qubit')"
      ]
     },
     "execution_count": 41,
     "metadata": {},
     "output_type": "execute_result"
    },
    {
     "data": {
      "image/png": "[encoded data removed]",
      "text/plain": [
       "<Figure size 432x288 with 1 Axes>"
      ]
     },
     "metadata": {
      "needs_background": "light"
     },
     "output_type": "display_data"
    }
   ],
   "source": [
    "plt.plot(t[:-2], nq2[:-2], label = 'only inside apriori lightcone')\n",
    "plt.plot(t, nq, label = 'all sites')\n",
    "plt.legend()\n",
    "plt.xlabel('time')\n",
    "plt.ylabel('occupation of qubit')"
   ]
  },
  {
   "cell_type": "code",
   "execution_count": 61,
   "metadata": {},
   "outputs": [
    {
     "data": {
      "text/plain": [
       "Text(0, 0.5, 'occupation of chain sites')"
      ]
     },
     "execution_count": 61,
     "metadata": {},
     "output_type": "execute_result"
    },
    {
     "data": {
      "image/png": "[encoded data removed]",
      "text/plain": [
       "<Figure size 432x288 with 1 Axes>"
      ]
     },
     "metadata": {
      "needs_background": "light"
     },
     "output_type": "display_data"
    }
   ],
   "source": [
    "for j in range(3):\n",
    "    plt.plot(t, nc[:, j], 'b')\n",
    "    plt.plot(t, nc2[:, j], 'r')\n",
    "    \n",
    "plt.xlabel('time')\n",
    "plt.ylabel('occupation of chain sites')"
   ]
  },
  {
   "cell_type": "markdown",
   "metadata": {},
   "source": [
    "We see that both the dynamics of the qubit, and of the chain sites, agree with the numerically exact result.\n",
    "Therefore, the backward lightcone is a structure of the whole many-body wavefunction, to the leading order of statistical significance, as in the following picture:\n",
    "\n",
    "```{image} backward_lightcone_wavefunction.png\n",
    ":width: 80%\n",
    "```\n",
    "\n",
    "Here primes denote the rotated frame, {eq}`rotated_frame`"
   ]
  }
 ],
 "metadata": {
  "kernelspec": {
   "display_name": "Python 3 (ipykernel)",
   "language": "python",
   "name": "python3"
  },
  "language_info": {
   "codemirror_mode": {
    "name": "ipython",
    "version": 3
   },
   "file_extension": ".py",
   "mimetype": "text/x-python",
   "name": "python",
   "nbconvert_exporter": "python",
   "pygments_lexer": "ipython3",
   "version": "3.10.8"
  },
  "widgets": {
   "application/vnd.jupyter.widget-state+json": {
    "state": {},
    "version_major": 2,
    "version_minor": 0
   }
  }
 },
 "nbformat": 4,
 "nbformat_minor": 4
}
